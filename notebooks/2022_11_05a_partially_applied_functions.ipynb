{
 "cells": [
  {
   "cell_type": "code",
   "execution_count": 1,
   "id": "d5ebd723",
   "metadata": {},
   "outputs": [
    {
     "name": "stdout",
     "output_type": "stream",
     "text": [
      "Sat Nov  5 11:30:44 PDT 2022\n",
      "ndbs\n",
      "Darwin ndbs-Q9Q94K6GHF 21.6.0 Darwin Kernel Version 21.6.0: Mon Aug 22 20:19:52 PDT 2022; root:xnu-8020.140.49~2/RELEASE_ARM64_T6000 arm64\n",
      "/Users/ndbs/notebooks\n"
     ]
    }
   ],
   "source": [
    "from functools import partial\n",
    "\n",
    "!date\n",
    "!whoami\n",
    "!uname -a\n",
    "!pwd"
   ]
  },
  {
   "cell_type": "markdown",
   "id": "4393708f",
   "metadata": {},
   "source": [
    "# Goal\n",
    "\n",
    "## Write a second-order function similar to `functools.partial` that returns a partially applied function, but using synatx more similar to the notation mathematicians use\n",
    "\n",
    "* https://en.wikipedia.org/wiki/Partial_application\n",
    "\n",
    "* https://docs.python.org/3/library/functools.html#functools.partial\n",
    "\n",
    "Specifically, the idea is to use the `Ellipsis` object as a placeholder for arguments being treated as variables, similar to how mathematicians use `\\cdot` or `-`.\n",
    "For example, I want `f(..., 3, ..., loc=4, scale=...)` to return a function `g` of three arguments such that `g(x,y,z)` or `g(x,y,scale=z)` equals `f(x, 3, y, loc=4, scale=z)`, so that `g` is a partially applied version of `f`."
   ]
  },
  {
   "cell_type": "markdown",
   "id": "3490ee68",
   "metadata": {},
   "source": [
    "## Approximate implementation of `functools.partial`, for reference\n",
    "\n",
    "Code from https://docs.python.org/3/library/functools.html#functools.partial"
   ]
  },
  {
   "cell_type": "code",
   "execution_count": 294,
   "id": "5a3ffd74",
   "metadata": {},
   "outputs": [],
   "source": [
    "def fake_partial(func, /, *args, **keywords):\n",
    "    def newfunc(*fargs, **fkeywords):\n",
    "        # Note: Creating a dictionary union overwrites keywords (passed on creation)\n",
    "        # with fkeywords (passed when calling the partial function) if the same\n",
    "        # keyword is passed in both places; passing (..., **keywords, **fkeywords) directly\n",
    "        # to func would instead raise a TypeError in this case.\n",
    "        newkeywords = {**keywords, **fkeywords}\n",
    "        return func(*args, *fargs, **newkeywords)\n",
    "    newfunc.func = func\n",
    "    newfunc.args = args\n",
    "    newfunc.keywords = keywords\n",
    "    return newfunc"
   ]
  },
  {
   "cell_type": "markdown",
   "id": "267fefe8",
   "metadata": {},
   "source": [
    "# Define some functions, and test `functools.partial` on them"
   ]
  },
  {
   "cell_type": "code",
   "execution_count": 296,
   "id": "108d2f6f",
   "metadata": {},
   "outputs": [],
   "source": [
    "def f1(a, b, c, d=1, e=2):\n",
    "    print(f'{a=},{b=},{c=},{d=},{e=}')\n",
    "\n",
    "def g1(*args, **kwargs):\n",
    "    print(args, kwargs)"
   ]
  },
  {
   "cell_type": "markdown",
   "id": "4ef8b82f",
   "metadata": {},
   "source": [
    "## Apparently it's not possible to specify the value of one positional argument that comes before another positional argument that you want to leave unspecified, unless you pass the second argument as a keyword argument..."
   ]
  },
  {
   "cell_type": "code",
   "execution_count": 297,
   "id": "0acafbf8",
   "metadata": {},
   "outputs": [
    {
     "data": {
      "text/plain": [
       "functools.partial(<function f1 at 0x10828fa60>, 1, b=2, e=4)"
      ]
     },
     "execution_count": 297,
     "metadata": {},
     "output_type": "execute_result"
    }
   ],
   "source": [
    "f1a=partial(f1, 1, b=2, e=4)\n",
    "f1a"
   ]
  },
  {
   "cell_type": "code",
   "execution_count": 303,
   "id": "f57c5506",
   "metadata": {},
   "outputs": [
    {
     "ename": "TypeError",
     "evalue": "f1() missing 1 required positional argument: 'c'",
     "output_type": "error",
     "traceback": [
      "\u001b[0;31m---------------------------------------------------------------------------\u001b[0m",
      "\u001b[0;31mTypeError\u001b[0m                                 Traceback (most recent call last)",
      "Cell \u001b[0;32mIn [303], line 2\u001b[0m\n\u001b[1;32m      1\u001b[0m \u001b[38;5;66;03m# These are supposed to be the values of a and c, not a and b...\u001b[39;00m\n\u001b[0;32m----> 2\u001b[0m \u001b[43mf1a\u001b[49m\u001b[43m(\u001b[49m\u001b[43m)\u001b[49m\n",
      "\u001b[0;31mTypeError\u001b[0m: f1() missing 1 required positional argument: 'c'"
     ]
    }
   ],
   "source": [
    "f1a() # This error is to be expected"
   ]
  },
  {
   "cell_type": "code",
   "execution_count": 304,
   "id": "7fdc78c9",
   "metadata": {},
   "outputs": [
    {
     "ename": "TypeError",
     "evalue": "f1() got multiple values for argument 'b'",
     "output_type": "error",
     "traceback": [
      "\u001b[0;31m---------------------------------------------------------------------------\u001b[0m",
      "\u001b[0;31mTypeError\u001b[0m                                 Traceback (most recent call last)",
      "Cell \u001b[0;32mIn [304], line 1\u001b[0m\n\u001b[0;32m----> 1\u001b[0m \u001b[43mf1a\u001b[49m\u001b[43m(\u001b[49m\u001b[38;5;241;43m4\u001b[39;49m\u001b[43m)\u001b[49m\n",
      "\u001b[0;31mTypeError\u001b[0m: f1() got multiple values for argument 'b'"
     ]
    }
   ],
   "source": [
    "# This is supposed to be the value of c, not the value of b...\n",
    "f1a(4)"
   ]
  },
  {
   "cell_type": "code",
   "execution_count": 305,
   "id": "293d9933",
   "metadata": {},
   "outputs": [
    {
     "name": "stdout",
     "output_type": "stream",
     "text": [
      "a=1,b=2,c=4,d=1,e=4\n"
     ]
    }
   ],
   "source": [
    "# I guess you have to pass c as a keyword argument\n",
    "f1a(c=4)"
   ]
  },
  {
   "cell_type": "code",
   "execution_count": 298,
   "id": "dc4228cd",
   "metadata": {},
   "outputs": [
    {
     "ename": "TypeError",
     "evalue": "f1() got multiple values for argument 'b'",
     "output_type": "error",
     "traceback": [
      "\u001b[0;31m---------------------------------------------------------------------------\u001b[0m",
      "\u001b[0;31mTypeError\u001b[0m                                 Traceback (most recent call last)",
      "Cell \u001b[0;32mIn [298], line 2\u001b[0m\n\u001b[1;32m      1\u001b[0m \u001b[38;5;66;03m# These are supposed to be the values of a and c, not a and b...\u001b[39;00m\n\u001b[0;32m----> 2\u001b[0m \u001b[43mf1a\u001b[49m\u001b[43m(\u001b[49m\u001b[38;5;241;43m3\u001b[39;49m\u001b[43m,\u001b[49m\u001b[38;5;241;43m4\u001b[39;49m\u001b[43m)\u001b[49m\n",
      "\u001b[0;31mTypeError\u001b[0m: f1() got multiple values for argument 'b'"
     ]
    }
   ],
   "source": [
    "# This is a confusing error...\n",
    "f1a(3,4)"
   ]
  },
  {
   "cell_type": "markdown",
   "id": "a19e249b",
   "metadata": {},
   "source": [
    "## Try again, but leave both `a` and `c` unspecified"
   ]
  },
  {
   "cell_type": "code",
   "execution_count": 306,
   "id": "a558eadd",
   "metadata": {},
   "outputs": [],
   "source": [
    "f1b = partial(f1, b=2, e=4)"
   ]
  },
  {
   "cell_type": "code",
   "execution_count": 309,
   "id": "60074507",
   "metadata": {},
   "outputs": [
    {
     "ename": "TypeError",
     "evalue": "f1() missing 1 required positional argument: 'c'",
     "output_type": "error",
     "traceback": [
      "\u001b[0;31m---------------------------------------------------------------------------\u001b[0m",
      "\u001b[0;31mTypeError\u001b[0m                                 Traceback (most recent call last)",
      "Cell \u001b[0;32mIn [309], line 1\u001b[0m\n\u001b[0;32m----> 1\u001b[0m \u001b[43mf1b\u001b[49m\u001b[43m(\u001b[49m\u001b[38;5;241;43m1\u001b[39;49m\u001b[43m)\u001b[49m\n",
      "\u001b[0;31mTypeError\u001b[0m: f1() missing 1 required positional argument: 'c'"
     ]
    }
   ],
   "source": [
    "f1b(1) # This error is expected"
   ]
  },
  {
   "cell_type": "code",
   "execution_count": 310,
   "id": "22c9394f",
   "metadata": {},
   "outputs": [
    {
     "ename": "TypeError",
     "evalue": "f1() got multiple values for argument 'b'",
     "output_type": "error",
     "traceback": [
      "\u001b[0;31m---------------------------------------------------------------------------\u001b[0m",
      "\u001b[0;31mTypeError\u001b[0m                                 Traceback (most recent call last)",
      "Cell \u001b[0;32mIn [310], line 1\u001b[0m\n\u001b[0;32m----> 1\u001b[0m \u001b[43mf1b\u001b[49m\u001b[43m(\u001b[49m\u001b[38;5;241;43m1\u001b[39;49m\u001b[43m,\u001b[49m\u001b[38;5;241;43m2\u001b[39;49m\u001b[43m)\u001b[49m\n",
      "\u001b[0;31mTypeError\u001b[0m: f1() got multiple values for argument 'b'"
     ]
    }
   ],
   "source": [
    "f1b(1,2) # This error is annoying, but perhaps to be expected"
   ]
  },
  {
   "cell_type": "code",
   "execution_count": 311,
   "id": "99a0f5c3",
   "metadata": {},
   "outputs": [
    {
     "name": "stdout",
     "output_type": "stream",
     "text": [
      "a=1,b=2,c=2,d=1,e=4\n"
     ]
    }
   ],
   "source": [
    "f1b(1,c=2) # Again, we have to specify c as a keyword argument"
   ]
  },
  {
   "cell_type": "code",
   "execution_count": 320,
   "id": "07e39f2a",
   "metadata": {},
   "outputs": [
    {
     "name": "stdout",
     "output_type": "stream",
     "text": [
      "a=8,b=4,c=12,d=1,e=4\n"
     ]
    }
   ],
   "source": [
    "f1b(8,b=4,c=12)"
   ]
  },
  {
   "cell_type": "markdown",
   "id": "71c6ae67",
   "metadata": {},
   "source": [
    "## Try another example"
   ]
  },
  {
   "cell_type": "code",
   "execution_count": 13,
   "id": "2cf4ba8c",
   "metadata": {},
   "outputs": [
    {
     "data": {
      "text/plain": [
       "functools.partial(<function f1 at 0x1074c2a60>, 1, 2, e=4)"
      ]
     },
     "execution_count": 13,
     "metadata": {},
     "output_type": "execute_result"
    }
   ],
   "source": [
    "f1c=partial(f1, 1, 2, e=4)\n",
    "f1c"
   ]
  },
  {
   "cell_type": "code",
   "execution_count": 16,
   "id": "b2edcd74",
   "metadata": {},
   "outputs": [
    {
     "name": "stdout",
     "output_type": "stream",
     "text": [
      "a=1,b=2,c=4,d=3,e=4\n"
     ]
    }
   ],
   "source": [
    "f1c(4,3)"
   ]
  },
  {
   "cell_type": "code",
   "execution_count": 15,
   "id": "70ff017d",
   "metadata": {},
   "outputs": [
    {
     "name": "stdout",
     "output_type": "stream",
     "text": [
      "a=1,b=2,c=8,d=5,e=4\n"
     ]
    }
   ],
   "source": [
    "f1c(8,d=5)"
   ]
  },
  {
   "cell_type": "code",
   "execution_count": 19,
   "id": "ef5f8b3a",
   "metadata": {},
   "outputs": [
    {
     "data": {
      "text/plain": [
       "<function __main__.f1(a, b, c, d=1, e=2)>"
      ]
     },
     "execution_count": 19,
     "metadata": {},
     "output_type": "execute_result"
    }
   ],
   "source": [
    "f1c.func"
   ]
  },
  {
   "cell_type": "code",
   "execution_count": 18,
   "id": "b2dc2e07",
   "metadata": {},
   "outputs": [
    {
     "data": {
      "text/plain": [
       "(1, 2)"
      ]
     },
     "execution_count": 18,
     "metadata": {},
     "output_type": "execute_result"
    }
   ],
   "source": [
    "f1c.args"
   ]
  },
  {
   "cell_type": "code",
   "execution_count": 20,
   "id": "9abea6cd",
   "metadata": {},
   "outputs": [
    {
     "data": {
      "text/plain": [
       "{'e': 4}"
      ]
     },
     "execution_count": 20,
     "metadata": {},
     "output_type": "execute_result"
    }
   ],
   "source": [
    "f1c.keywords"
   ]
  },
  {
   "cell_type": "code",
   "execution_count": 23,
   "id": "74b93493",
   "metadata": {},
   "outputs": [
    {
     "data": {
      "text/plain": [
       "'f1'"
      ]
     },
     "execution_count": 23,
     "metadata": {},
     "output_type": "execute_result"
    }
   ],
   "source": [
    "f1.__name__"
   ]
  },
  {
   "cell_type": "code",
   "execution_count": 24,
   "id": "9adfad3d",
   "metadata": {},
   "outputs": [
    {
     "ename": "AttributeError",
     "evalue": "'functools.partial' object has no attribute '__name__'",
     "output_type": "error",
     "traceback": [
      "\u001b[0;31m---------------------------------------------------------------------------\u001b[0m",
      "\u001b[0;31mAttributeError\u001b[0m                            Traceback (most recent call last)",
      "Cell \u001b[0;32mIn [24], line 1\u001b[0m\n\u001b[0;32m----> 1\u001b[0m \u001b[43mf1b\u001b[49m\u001b[38;5;241;43m.\u001b[39;49m\u001b[38;5;18;43m__name__\u001b[39;49m\n",
      "\u001b[0;31mAttributeError\u001b[0m: 'functools.partial' object has no attribute '__name__'"
     ]
    }
   ],
   "source": [
    "f1b.__name__"
   ]
  },
  {
   "cell_type": "markdown",
   "id": "adb0f4ce",
   "metadata": {},
   "source": [
    "# What about `g`?"
   ]
  },
  {
   "cell_type": "code",
   "execution_count": 313,
   "id": "8149db3f",
   "metadata": {},
   "outputs": [
    {
     "data": {
      "text/plain": [
       "functools.partial(<function g1 at 0x107eff160>)"
      ]
     },
     "execution_count": 313,
     "metadata": {},
     "output_type": "execute_result"
    }
   ],
   "source": [
    "g1a = partial(g1) # This returns a function equal to g\n",
    "g1a"
   ]
  },
  {
   "cell_type": "code",
   "execution_count": 314,
   "id": "8ac26424",
   "metadata": {},
   "outputs": [
    {
     "name": "stdout",
     "output_type": "stream",
     "text": [
      "() {}\n"
     ]
    }
   ],
   "source": [
    "g1a()"
   ]
  },
  {
   "cell_type": "code",
   "execution_count": 321,
   "id": "10ce0c05",
   "metadata": {},
   "outputs": [
    {
     "name": "stdout",
     "output_type": "stream",
     "text": [
      "(9,) {}\n"
     ]
    }
   ],
   "source": [
    "g1a(9)"
   ]
  },
  {
   "cell_type": "code",
   "execution_count": 322,
   "id": "4502522d",
   "metadata": {},
   "outputs": [
    {
     "name": "stdout",
     "output_type": "stream",
     "text": [
      "(9,) {'x': 398}\n"
     ]
    }
   ],
   "source": [
    "g1a(9, x=398)"
   ]
  },
  {
   "cell_type": "code",
   "execution_count": 315,
   "id": "11493168",
   "metadata": {},
   "outputs": [
    {
     "data": {
      "text/plain": [
       "functools.partial(<function g1 at 0x107eff160>, 112, 3, 4, x=5, y=7)"
      ]
     },
     "execution_count": 315,
     "metadata": {},
     "output_type": "execute_result"
    }
   ],
   "source": [
    "g1b = partial(g1, 112, 3,4, x=5, y=7)\n",
    "g1b"
   ]
  },
  {
   "cell_type": "code",
   "execution_count": 316,
   "id": "30b6b8d4",
   "metadata": {},
   "outputs": [
    {
     "name": "stdout",
     "output_type": "stream",
     "text": [
      "(112, 3, 4, 1, 2, 3) {'x': 5, 'y': 7}\n"
     ]
    }
   ],
   "source": [
    "g1b(1,2,3)"
   ]
  },
  {
   "cell_type": "code",
   "execution_count": 317,
   "id": "161c5b16",
   "metadata": {},
   "outputs": [
    {
     "name": "stdout",
     "output_type": "stream",
     "text": [
      "(112, 3, 4, 1, 2) {'x': 5, 'y': 7, 'z': 4, 'w': 238}\n"
     ]
    }
   ],
   "source": [
    "g1b(1,2, z=4, w=238)"
   ]
  },
  {
   "cell_type": "code",
   "execution_count": 318,
   "id": "b9490dc5",
   "metadata": {},
   "outputs": [
    {
     "name": "stdout",
     "output_type": "stream",
     "text": [
      "(112, 3, 4, 999) {'x': 5, 'y': 7}\n"
     ]
    }
   ],
   "source": [
    "g1b(999,x=5)"
   ]
  },
  {
   "cell_type": "code",
   "execution_count": 319,
   "id": "a1558b19",
   "metadata": {},
   "outputs": [
    {
     "name": "stdout",
     "output_type": "stream",
     "text": [
      "(112, 3, 4, 999) {'x': 27, 'y': 7}\n"
     ]
    }
   ],
   "source": [
    "g1b(999,x=27)"
   ]
  },
  {
   "cell_type": "markdown",
   "id": "94e9694c",
   "metadata": {},
   "source": [
    "# Try writing my own version of partially applied functions, using `...` as a placeholder to identify positions of variables\n",
    "\n",
    "## For simplicity, first write a version that only accepts positional arguments\n",
    "\n",
    "First I need a way to identify the positions of arguments that were passed an `Ellipsis`"
   ]
  },
  {
   "cell_type": "code",
   "execution_count": 295,
   "id": "c1b63006",
   "metadata": {},
   "outputs": [
    {
     "data": {
      "text/plain": [
       "2"
      ]
     },
     "execution_count": 295,
     "metadata": {},
     "output_type": "execute_result"
    }
   ],
   "source": [
    "# .index() only finds the first position\n",
    "t = (2,3,4,2,5,6,4,8,9)\n",
    "t.index(4)"
   ]
  },
  {
   "cell_type": "code",
   "execution_count": 51,
   "id": "99086f86",
   "metadata": {},
   "outputs": [
    {
     "data": {
      "text/plain": [
       "{1: 0, 4: 1}"
      ]
     },
     "execution_count": 51,
     "metadata": {},
     "output_type": "execute_result"
    }
   ],
   "source": [
    "# Haha, this works! Thanks, walrus!\n",
    "args = (3,...,5,4,...)\n",
    "count=0\n",
    "omitted_indices = {i: (count:=count+1)-1 for i, arg in enumerate(args) if arg is SENTINEL}\n",
    "omitted_indices"
   ]
  },
  {
   "cell_type": "code",
   "execution_count": 80,
   "id": "c75e002e",
   "metadata": {},
   "outputs": [],
   "source": [
    "SENTINEL = Ellipsis\n",
    "\n",
    "def partially_applicable_no_kwargs(func):\n",
    "#     def partially_applied_func(*new_args):\n",
    "#         if SENTINEL in new_args:\n",
    "#             raise ValueError(f\"{SENTINEL} is not a valid argument.\")\n",
    "#         return\n",
    "    \n",
    "    def new_func(*args):\n",
    "#     First attempt:\n",
    "#         omitted_indices = [i for i, arg in enumerate(args) if arg is SENTINEL]\n",
    "#         omitted_indices = {i:j for j,i in enumerate(omitted_indices)}\n",
    "#     Second attempt:\n",
    "#         omitted_indices = {}\n",
    "#         count = 0\n",
    "#         for i, arg in enumerate(args):\n",
    "#             omitted_indices[i] = count\n",
    "#             count += 1\n",
    "#     Third attempt:\n",
    "        # Map omitted indices to a new index in range(len(omitted_indices))\n",
    "        count=0\n",
    "        omitted_indices = {i: (count:=count+1)-1 for i, arg in enumerate(args) if arg is SENTINEL}\n",
    "        print(f\"{omitted_indices=}\")\n",
    "        if len(omitted_indices) == 0:\n",
    "            return func(*args) # Nullary function because arity equals number of omitted indices\n",
    "        \n",
    "#         fixed_args = [(i, args[i]) for i not in omitted_indices]\n",
    "        def partially_applied_func(*fewer_args): # Define a function of arity len(omitted_indices)\n",
    "            print(f\"{omitted_indices=}, {args=}, {fewer_args=}\")\n",
    "            new_args = []\n",
    "            for i, arg in enumerate(args):\n",
    "                new_args.append(fewer_args[omitted_indices[i]] if i in omitted_indices else arg)\n",
    "            \n",
    "#             new_args = [fewer_args[omitted_indices[i]] if i in omitted_indices else arg\n",
    "#                         for i, arg in enumerate(args)]\n",
    "            return func(*new_args)\n",
    "        \n",
    "        return partially_applied_func\n",
    "    return new_func"
   ]
  },
  {
   "cell_type": "code",
   "execution_count": 138,
   "id": "13bfa1d8",
   "metadata": {},
   "outputs": [
    {
     "data": {
      "text/plain": [
       "<function __main__.partially_applicable_no_kwargs.<locals>.new_func(*args)>"
      ]
     },
     "execution_count": 138,
     "metadata": {},
     "output_type": "execute_result"
    }
   ],
   "source": [
    "def f2(a,b,c):\n",
    "    print(f'{a=},{b=},{c=}')\n",
    "\n",
    "pf2 = partially_applicable_no_kwargs(f2)\n",
    "pf2"
   ]
  },
  {
   "cell_type": "code",
   "execution_count": 139,
   "id": "26a2203a",
   "metadata": {},
   "outputs": [
    {
     "name": "stdout",
     "output_type": "stream",
     "text": [
      "omitted_indices={}\n",
      "omitted_indices={}, args=(3, 5, 7), fewer_args=()\n",
      "new_args=[3, 5, 7]\n",
      "a=3,b=5,c=7\n"
     ]
    }
   ],
   "source": [
    "pf2(3,5,7)()"
   ]
  },
  {
   "cell_type": "code",
   "execution_count": 117,
   "id": "c1166adb",
   "metadata": {},
   "outputs": [
    {
     "name": "stdout",
     "output_type": "stream",
     "text": [
      "omitted_indices={0: 0}\n"
     ]
    },
    {
     "data": {
      "text/plain": [
       "<function __main__.partially_applicable_no_kwargs.<locals>.new_func.<locals>.partially_applied_func(*fewer_args)>"
      ]
     },
     "execution_count": 117,
     "metadata": {},
     "output_type": "execute_result"
    }
   ],
   "source": [
    "pf2(...,2,3)"
   ]
  },
  {
   "cell_type": "code",
   "execution_count": 118,
   "id": "ca7bcaf2",
   "metadata": {},
   "outputs": [
    {
     "name": "stdout",
     "output_type": "stream",
     "text": [
      "omitted_indices={0: 0}\n",
      "omitted_indices={0: 0}, args=(Ellipsis, 2, 3), fewer_args=(4,)\n",
      "a=4,b=2,c=3\n"
     ]
    }
   ],
   "source": [
    "pf2(...,2,3)(4)"
   ]
  },
  {
   "cell_type": "code",
   "execution_count": 119,
   "id": "00f59822",
   "metadata": {},
   "outputs": [
    {
     "name": "stdout",
     "output_type": "stream",
     "text": [
      "omitted_indices={1: 0}\n"
     ]
    },
    {
     "data": {
      "text/plain": [
       "<function __main__.partially_applicable_no_kwargs.<locals>.new_func.<locals>.partially_applied_func(*fewer_args)>"
      ]
     },
     "execution_count": 119,
     "metadata": {},
     "output_type": "execute_result"
    }
   ],
   "source": [
    "pf2(5,...,3)"
   ]
  },
  {
   "cell_type": "code",
   "execution_count": 120,
   "id": "6858d9de",
   "metadata": {},
   "outputs": [
    {
     "name": "stdout",
     "output_type": "stream",
     "text": [
      "omitted_indices={1: 0}\n",
      "omitted_indices={1: 0}, args=(5, Ellipsis, 3), fewer_args=(8,)\n",
      "a=5,b=8,c=3\n"
     ]
    }
   ],
   "source": [
    "pf2(5,...,3)(8)"
   ]
  },
  {
   "cell_type": "code",
   "execution_count": 121,
   "id": "9053430a",
   "metadata": {},
   "outputs": [
    {
     "name": "stdout",
     "output_type": "stream",
     "text": [
      "omitted_indices={0: 0, 2: 1}\n",
      "omitted_indices={0: 0, 2: 1}, args=(Ellipsis, 5, Ellipsis), fewer_args=(2, 3)\n",
      "a=2,b=5,c=3\n"
     ]
    }
   ],
   "source": [
    "pf2(...,5,...)(2,3)"
   ]
  },
  {
   "cell_type": "code",
   "execution_count": 122,
   "id": "37005da7",
   "metadata": {},
   "outputs": [
    {
     "name": "stdout",
     "output_type": "stream",
     "text": [
      "omitted_indices={0: 0, 2: 1}\n",
      "omitted_indices={0: 0, 2: 1}, args=(Ellipsis, 5, Ellipsis), fewer_args=(2, Ellipsis)\n",
      "a=2,b=5,c=Ellipsis\n"
     ]
    }
   ],
   "source": [
    "# \"Chaining\" doesn't work because the returned function is not partially applicable\n",
    "pf2(...,5,...)(2,...)"
   ]
  },
  {
   "cell_type": "markdown",
   "id": "19ca236f",
   "metadata": {},
   "source": [
    "# \"Chaining\" didn't work like I had hoped... let's try again, using recursion\n",
    "\n",
    "That is, with the above code, I can't pass an `Ellipsis` to a partially applicable function to get another partially applicable function.\n",
    "\n",
    "## First, just copy the above version, but clean it up"
   ]
  },
  {
   "cell_type": "code",
   "execution_count": 240,
   "id": "a830a70e",
   "metadata": {},
   "outputs": [],
   "source": [
    "SENTINEL = Ellipsis\n",
    "\n",
    "def partially_applicable_no_kwargs(func):\n",
    "    def new_func(*args):\n",
    "#     Third attempt:\n",
    "        # Map omitted indices to a new index in range(len(omitted_indices))\n",
    "        count=0\n",
    "        omitted_indices = {i: (count:=count+1)-1 for i, arg in enumerate(args) if arg is SENTINEL}\n",
    "        print(f\"{omitted_indices=}\")\n",
    "#         if len(omitted_indices) == 0:\n",
    "#             return func(*args) # Nullary function because arity equals number of omitted indices\n",
    "        \n",
    "        def partially_applied_func(*fewer_args): # Define a function of arity len(omitted_indices)\n",
    "            print(f\"{omitted_indices=}, {args=}, {fewer_args=}\")\n",
    "            new_args = [fewer_args[omitted_indices[i]] if i in omitted_indices else arg\n",
    "                        for i, arg in enumerate(args)]\n",
    "            print(f\"{new_args=}\")\n",
    "            return func(*new_args)\n",
    "        \n",
    "        return partially_applied_func\n",
    "    return new_func"
   ]
  },
  {
   "cell_type": "markdown",
   "id": "5bf6fc69",
   "metadata": {},
   "source": [
    "## Do we actually need *nested* inner functions, or could we do it with just one??\n",
    "\n",
    "## It seems like we need two because we need two places to pass arguments...\n",
    "\n",
    "**Yes**, the first inner function is a function wapper that turns the pased function `func` into a partially applicable function. The second inner function (the one inside the function wrapper) is what you get when you _call_ the partially applicable function, i.e. the partially _applied_ function; this is what the partially applicable function returns -- a partially applied version of `func` (which could be a \"totally applied\" version of `func` if you pass all the arguments).\n",
    "\n",
    "**Note:** We could instead implement \"partially applicable function\" inner function as a _class_, which would probably be more flexible, especially since it would be subclassable, allowing more features to be added in the future. Such as being able to pass positional arguments to a partially applicable function as keyword arguments, which I think is more trouble than it's worth on a first pass because I think it [requires](https://stackoverflow.com/questions/42352703/get-names-of-positional-arguments-from-functions-signature) the `inspect` module. But I _do_ want to be able to pass keyword arguments as positional arguments, which should be easier, but I haven't quite figured out how to do it as of 11/6/2022."
   ]
  },
  {
   "cell_type": "code",
   "execution_count": 235,
   "id": "4d83067b",
   "metadata": {},
   "outputs": [],
   "source": [
    "def partially_applicable_no_kwargs1(func, nullary_as_const=True):\n",
    "    def partially_applicable_func_no_kwargs(*args):\n",
    "        # This list maps the index of each new argument to its original position in args\n",
    "        omitted_indices = [j for j, arg in enumerate(args) if arg is SENTINEL]\n",
    "#   This works, but then we don't have the option to return a function rather than a constant:\n",
    "#         if len(omitted_indices) == 0:\n",
    "#             return func(*args) # Nullary function because arity equals number of omitted indices\n",
    "        print(f\"{omitted_indices=}\")\n",
    "        def partially_applied_func(*fewer_args):\n",
    "            print(f\"{omitted_indices=}, {args=}, {fewer_args=}\")\n",
    "            if len(fewer_args) != len(omitted_indices):\n",
    "                raise TypeError(\n",
    "                    f\"The partially applied function takes {len(omitted_indices)} \"\n",
    "                    f\"positional arguments, but {len(fewer_args)} were given\"\n",
    "                )\n",
    "            new_args = list(args)\n",
    "            for i,j in enumerate(omitted_indices):\n",
    "                new_args[j] = fewer_args[i]\n",
    "            print(f\"{new_args=}\")\n",
    "            return func(*new_args)\n",
    "        \n",
    "        if len(omitted_indices) == 0:\n",
    "            # Base case: Don't recurse when result is nullary\n",
    "            return partially_applied_func() if nullary_as_const else partially_applied_func\n",
    "        else:\n",
    "            # If not nullary, use recursion to get another partially applicable function\n",
    "            return partially_applicable_no_kwargs1(partially_applied_func)\n",
    "        \n",
    "    return partially_applicable_func_no_kwargs"
   ]
  },
  {
   "cell_type": "code",
   "execution_count": 236,
   "id": "8349beaa",
   "metadata": {},
   "outputs": [
    {
     "data": {
      "text/plain": [
       "<function __main__.partially_applicable_no_kwargs1.<locals>.partially_applicable_func_no_kwargs(*args)>"
      ]
     },
     "execution_count": 236,
     "metadata": {},
     "output_type": "execute_result"
    }
   ],
   "source": [
    "# By default, evaluate f when all arguments are supplied\n",
    "pf2a = partially_applicable_no_kwargs1(f2)\n",
    "pf2a"
   ]
  },
  {
   "cell_type": "code",
   "execution_count": 239,
   "id": "5d9a1c98",
   "metadata": {},
   "outputs": [
    {
     "name": "stdout",
     "output_type": "stream",
     "text": [
      "omitted_indices=[]\n",
      "omitted_indices=[], args=(3, 4, 5), fewer_args=()\n",
      "new_args=[3, 4, 5]\n",
      "a=3,b=4,c=5\n"
     ]
    }
   ],
   "source": [
    "pf2a(3,4,5)"
   ]
  },
  {
   "cell_type": "code",
   "execution_count": 221,
   "id": "cfb0c23f",
   "metadata": {},
   "outputs": [
    {
     "data": {
      "text/plain": [
       "<function __main__.partially_applicable_no_kwargs1.<locals>.partially_applicable_func_no_kwargs(*args)>"
      ]
     },
     "execution_count": 221,
     "metadata": {},
     "output_type": "execute_result"
    }
   ],
   "source": [
    "# Specify nullary_as_const=False to return a nullay function without evaluating it automatically\n",
    "pf2b = partially_applicable_no_kwargs1(f2, False)\n",
    "pf2b"
   ]
  },
  {
   "cell_type": "code",
   "execution_count": 222,
   "id": "af0ef75f",
   "metadata": {},
   "outputs": [
    {
     "name": "stdout",
     "output_type": "stream",
     "text": [
      "omitted_indices=[]\n"
     ]
    },
    {
     "data": {
      "text/plain": [
       "<function __main__.partially_applicable_no_kwargs1.<locals>.partially_applicable_func_no_kwargs.<locals>.partially_applied_func(*fewer_args)>"
      ]
     },
     "execution_count": 222,
     "metadata": {},
     "output_type": "execute_result"
    }
   ],
   "source": [
    "pf2b(3,4,5)"
   ]
  },
  {
   "cell_type": "code",
   "execution_count": 223,
   "id": "9bafd458",
   "metadata": {},
   "outputs": [
    {
     "name": "stdout",
     "output_type": "stream",
     "text": [
      "omitted_indices=[]\n",
      "omitted_indices=[], args=(3, 4, 5), fewer_args=()\n",
      "new_args=[3, 4, 5]\n",
      "a=3,b=4,c=5\n"
     ]
    }
   ],
   "source": [
    "pf2b(3,4,5)()"
   ]
  },
  {
   "cell_type": "code",
   "execution_count": 224,
   "id": "276069ed",
   "metadata": {},
   "outputs": [
    {
     "name": "stdout",
     "output_type": "stream",
     "text": [
      "omitted_indices=[2]\n",
      "omitted_indices=[]\n",
      "omitted_indices=[], args=(7,), fewer_args=()\n",
      "new_args=[7]\n",
      "omitted_indices=[2], args=(3, 4, Ellipsis), fewer_args=(7,)\n",
      "new_args=[3, 4, 7]\n",
      "a=3,b=4,c=7\n"
     ]
    }
   ],
   "source": [
    "pf2a(3,4,...)(7)"
   ]
  },
  {
   "cell_type": "code",
   "execution_count": 229,
   "id": "11febb22",
   "metadata": {},
   "outputs": [
    {
     "name": "stdout",
     "output_type": "stream",
     "text": [
      "omitted_indices=[0, 2]\n",
      "omitted_indices=[]\n",
      "omitted_indices=[], args=(7, 9), fewer_args=()\n",
      "new_args=[7, 9]\n",
      "omitted_indices=[0, 2], args=(Ellipsis, 4, Ellipsis), fewer_args=(7, 9)\n",
      "new_args=[7, 4, 9]\n",
      "a=7,b=4,c=9\n"
     ]
    }
   ],
   "source": [
    "pf2a(...,4,...)(7,9)"
   ]
  },
  {
   "cell_type": "code",
   "execution_count": 230,
   "id": "f4a75939",
   "metadata": {},
   "outputs": [
    {
     "name": "stdout",
     "output_type": "stream",
     "text": [
      "omitted_indices=[0, 2]\n",
      "omitted_indices=[1]\n"
     ]
    },
    {
     "data": {
      "text/plain": [
       "<function __main__.partially_applicable_no_kwargs1.<locals>.partially_applicable_func_no_kwargs(*args)>"
      ]
     },
     "execution_count": 230,
     "metadata": {},
     "output_type": "execute_result"
    }
   ],
   "source": [
    "pf2a(...,4,...)(7,...)"
   ]
  },
  {
   "cell_type": "code",
   "execution_count": 234,
   "id": "be291e58",
   "metadata": {},
   "outputs": [
    {
     "name": "stdout",
     "output_type": "stream",
     "text": [
      "omitted_indices=[0, 2]\n",
      "omitted_indices=[1]\n",
      "omitted_indices=[]\n",
      "omitted_indices=[], args=(12,), fewer_args=()\n",
      "new_args=[12]\n",
      "omitted_indices=[1], args=(7, Ellipsis), fewer_args=(12,)\n",
      "new_args=[7, 12]\n",
      "omitted_indices=[0, 2], args=(Ellipsis, 4, Ellipsis), fewer_args=(7, 12)\n",
      "new_args=[7, 4, 12]\n",
      "a=7,b=4,c=12\n"
     ]
    }
   ],
   "source": [
    "# Haha! \"Chaining\" now works like I wanted, using recursion\n",
    "pf2a(...,4,...)(7,...)(12)"
   ]
  },
  {
   "cell_type": "markdown",
   "id": "4a259e79",
   "metadata": {},
   "source": [
    "# Now let's try adding keyword arguments!"
   ]
  },
  {
   "cell_type": "code",
   "execution_count": 277,
   "id": "b14a55d6",
   "metadata": {},
   "outputs": [],
   "source": [
    "def partially_applicable(func, nullary_as_const=True):\n",
    "    def partially_applicable_func(*args, **kwargs):\n",
    "        # This list maps the index of each new argument to its original position in args\n",
    "        omitted_indices = [j for j, arg in enumerate(args) if arg is SENTINEL]\n",
    "        omitted_kwds = [kwd for kwd, val in kwargs.items() if val is SENTINEL]\n",
    "        print(f\"{omitted_indices=}, {omitted_kwds=}\")\n",
    "        \n",
    "        def partially_applied_func(*fewer_args, **fewer_kwargs):\n",
    "            print(f\"{omitted_indices=}, {args=}, {fewer_args=}\")\n",
    "            print(f\"{omitted_kwds=}, {kwargs=}, {fewer_kwargs=}\")\n",
    "            if (n_given:=len(fewer_args)+len(fewer_kwargs)) != (n_required:=len(omitted_indices)+len(omitted_kwds)):\n",
    "                raise TypeError(\n",
    "                    f\"The partially applied function takes {n_required} \"\n",
    "                    f\"arguments, but {n_given} were given\"\n",
    "                )\n",
    "            new_args, new_kwargs = list(args), dict(kwargs)\n",
    "            \n",
    "            for i,j in enumerate(omitted_indices):\n",
    "                new_args[j] = fewer_args[i]\n",
    "            for kwd in omitted_kwds:\n",
    "                new_kwargs[kwd] = fewer_kwargs[kwd]\n",
    "            print(f\"{new_args=}, {new_kwargs=}\")\n",
    "            return func(*new_args, **new_kwargs)\n",
    "        \n",
    "        if len(omitted_indices) == 0 and len(omitted_kwds) == 0:\n",
    "            # Base case: Don't recurse when result is nullary\n",
    "            return partially_applied_func() if nullary_as_const else partially_applied_func\n",
    "        else:\n",
    "            # If not nullary, use recursion to get another partially applicable function\n",
    "            return partially_applicable(partially_applied_func)\n",
    "        \n",
    "    return partially_applicable_func"
   ]
  },
  {
   "cell_type": "code",
   "execution_count": 278,
   "id": "2174a5b3",
   "metadata": {},
   "outputs": [
    {
     "data": {
      "text/plain": [
       "{'a': 4, 'b': 5}"
      ]
     },
     "execution_count": 278,
     "metadata": {},
     "output_type": "execute_result"
    }
   ],
   "source": [
    "d = dict(a=4,b=5)\n",
    "d"
   ]
  },
  {
   "cell_type": "code",
   "execution_count": 279,
   "id": "84603eef",
   "metadata": {},
   "outputs": [
    {
     "name": "stdout",
     "output_type": "stream",
     "text": [
      "a=1,b=4,c=3,d=10,e=47\n"
     ]
    }
   ],
   "source": [
    "def f3(a,b,c, d=10, e=47):\n",
    "    print(f'{a=},{b=},{c=},{d=},{e=}')\n",
    "f3(1,4,3)"
   ]
  },
  {
   "cell_type": "code",
   "execution_count": 280,
   "id": "246c48dc",
   "metadata": {},
   "outputs": [
    {
     "data": {
      "text/plain": [
       "<function __main__.partially_applicable.<locals>.partially_applicable_func(*args, **kwargs)>"
      ]
     },
     "execution_count": 280,
     "metadata": {},
     "output_type": "execute_result"
    }
   ],
   "source": [
    "pf3a = partially_applicable(f3)\n",
    "pf3a"
   ]
  },
  {
   "cell_type": "code",
   "execution_count": 281,
   "id": "bcc93b01",
   "metadata": {},
   "outputs": [
    {
     "name": "stdout",
     "output_type": "stream",
     "text": [
      "omitted_indices=[], omitted_kwds=[]\n",
      "omitted_indices=[], args=(1, 2, 3), fewer_args=()\n",
      "omitted_kwds=[], kwargs={}, fewer_kwargs={}\n",
      "new_args=[1, 2, 3], new_kwargs={}\n",
      "a=1,b=2,c=3,d=10,e=47\n"
     ]
    }
   ],
   "source": [
    "pf3a(1,2,3)"
   ]
  },
  {
   "cell_type": "code",
   "execution_count": 282,
   "id": "63e59413",
   "metadata": {},
   "outputs": [
    {
     "name": "stdout",
     "output_type": "stream",
     "text": [
      "omitted_indices=[], omitted_kwds=[]\n",
      "omitted_indices=[], args=(1, 2, 3, 4), fewer_args=()\n",
      "omitted_kwds=[], kwargs={}, fewer_kwargs={}\n",
      "new_args=[1, 2, 3, 4], new_kwargs={}\n",
      "a=1,b=2,c=3,d=4,e=47\n"
     ]
    }
   ],
   "source": [
    "pf3a(1,2,3,4)"
   ]
  },
  {
   "cell_type": "code",
   "execution_count": 283,
   "id": "d4d469c9",
   "metadata": {},
   "outputs": [
    {
     "name": "stdout",
     "output_type": "stream",
     "text": [
      "omitted_indices=[1], omitted_kwds=[]\n",
      "omitted_indices=[], omitted_kwds=[]\n",
      "omitted_indices=[], args=(5,), fewer_args=()\n",
      "omitted_kwds=[], kwargs={}, fewer_kwargs={}\n",
      "new_args=[5], new_kwargs={}\n",
      "omitted_indices=[1], args=(1, Ellipsis, 3, 4), fewer_args=(5,)\n",
      "omitted_kwds=[], kwargs={}, fewer_kwargs={}\n",
      "new_args=[1, 5, 3, 4], new_kwargs={}\n",
      "a=1,b=5,c=3,d=4,e=47\n"
     ]
    }
   ],
   "source": [
    "pf3a(1,...,3,4)(5)"
   ]
  },
  {
   "cell_type": "code",
   "execution_count": 284,
   "id": "12915d5e",
   "metadata": {},
   "outputs": [
    {
     "name": "stdout",
     "output_type": "stream",
     "text": [
      "omitted_indices=[1, 3], omitted_kwds=[]\n",
      "omitted_indices=[], omitted_kwds=[]\n",
      "omitted_indices=[], args=(5, 6), fewer_args=()\n",
      "omitted_kwds=[], kwargs={}, fewer_kwargs={}\n",
      "new_args=[5, 6], new_kwargs={}\n",
      "omitted_indices=[1, 3], args=(1, Ellipsis, 3, Ellipsis), fewer_args=(5, 6)\n",
      "omitted_kwds=[], kwargs={}, fewer_kwargs={}\n",
      "new_args=[1, 5, 3, 6], new_kwargs={}\n",
      "a=1,b=5,c=3,d=6,e=47\n"
     ]
    }
   ],
   "source": [
    "pf3a(1,...,3,...)(5,6)"
   ]
  },
  {
   "cell_type": "code",
   "execution_count": 285,
   "id": "6ba603e0",
   "metadata": {},
   "outputs": [
    {
     "name": "stdout",
     "output_type": "stream",
     "text": [
      "omitted_indices=[1], omitted_kwds=['d']\n",
      "omitted_indices=[], omitted_kwds=[]\n",
      "omitted_indices=[], args=(5,), fewer_args=()\n",
      "omitted_kwds=[], kwargs={'d': 6}, fewer_kwargs={}\n",
      "new_args=[5], new_kwargs={'d': 6}\n",
      "omitted_indices=[1], args=(1, Ellipsis, 3), fewer_args=(5,)\n",
      "omitted_kwds=['d'], kwargs={'d': Ellipsis}, fewer_kwargs={'d': 6}\n",
      "new_args=[1, 5, 3], new_kwargs={'d': 6}\n",
      "a=1,b=5,c=3,d=6,e=47\n"
     ]
    }
   ],
   "source": [
    "pf3a(1,...,3,d=...)(5,d=6)"
   ]
  },
  {
   "cell_type": "code",
   "execution_count": 286,
   "id": "c1068718",
   "metadata": {},
   "outputs": [
    {
     "name": "stdout",
     "output_type": "stream",
     "text": [
      "omitted_indices=[1], omitted_kwds=['d']\n",
      "omitted_indices=[], omitted_kwds=[]\n",
      "omitted_indices=[], args=(5,), fewer_args=()\n",
      "omitted_kwds=[], kwargs={'d': 12}, fewer_kwargs={}\n",
      "new_args=[5], new_kwargs={'d': 12}\n",
      "omitted_indices=[1], args=(1, Ellipsis), fewer_args=(5,)\n",
      "omitted_kwds=['d'], kwargs={'c': 4, 'd': Ellipsis}, fewer_kwargs={'d': 12}\n",
      "new_args=[1, 5], new_kwargs={'c': 4, 'd': 12}\n",
      "a=1,b=5,c=4,d=12,e=47\n"
     ]
    }
   ],
   "source": [
    "pf3a(1,...,c=4,d=...)(5,d=12)"
   ]
  },
  {
   "cell_type": "code",
   "execution_count": 287,
   "id": "24d292da",
   "metadata": {},
   "outputs": [
    {
     "name": "stdout",
     "output_type": "stream",
     "text": [
      "omitted_indices=[1], omitted_kwds=['d']\n",
      "omitted_indices=[], omitted_kwds=[]\n",
      "omitted_indices=[], args=(5, 12), fewer_args=()\n",
      "omitted_kwds=[], kwargs={}, fewer_kwargs={}\n",
      "new_args=[5, 12], new_kwargs={}\n",
      "omitted_indices=[1], args=(1, Ellipsis), fewer_args=(5, 12)\n",
      "omitted_kwds=['d'], kwargs={'c': 4, 'd': Ellipsis}, fewer_kwargs={}\n"
     ]
    },
    {
     "ename": "KeyError",
     "evalue": "'d'",
     "output_type": "error",
     "traceback": [
      "\u001b[0;31m---------------------------------------------------------------------------\u001b[0m",
      "\u001b[0;31mKeyError\u001b[0m                                  Traceback (most recent call last)",
      "Cell \u001b[0;32mIn [287], line 1\u001b[0m\n\u001b[0;32m----> 1\u001b[0m \u001b[43mpf3a\u001b[49m\u001b[43m(\u001b[49m\u001b[38;5;241;43m1\u001b[39;49m\u001b[43m,\u001b[49m\u001b[38;5;241;43m.\u001b[39;49m\u001b[38;5;241;43m.\u001b[39;49m\u001b[38;5;241;43m.\u001b[39;49m\u001b[43m,\u001b[49m\u001b[43mc\u001b[49m\u001b[38;5;241;43m=\u001b[39;49m\u001b[38;5;241;43m4\u001b[39;49m\u001b[43m,\u001b[49m\u001b[43md\u001b[49m\u001b[38;5;241;43m=\u001b[39;49m\u001b[38;5;241;43m.\u001b[39;49m\u001b[38;5;241;43m.\u001b[39;49m\u001b[38;5;241;43m.\u001b[39;49m\u001b[43m)\u001b[49m\u001b[43m(\u001b[49m\u001b[38;5;241;43m5\u001b[39;49m\u001b[43m,\u001b[49m\u001b[38;5;241;43m12\u001b[39;49m\u001b[43m)\u001b[49m\n",
      "Cell \u001b[0;32mIn [277], line 27\u001b[0m, in \u001b[0;36mpartially_applicable.<locals>.partially_applicable_func\u001b[0;34m(*args, **kwargs)\u001b[0m\n\u001b[1;32m     23\u001b[0m     \u001b[38;5;28;01mreturn\u001b[39;00m func(\u001b[38;5;241m*\u001b[39mnew_args, \u001b[38;5;241m*\u001b[39m\u001b[38;5;241m*\u001b[39mnew_kwargs)\n\u001b[1;32m     25\u001b[0m \u001b[38;5;28;01mif\u001b[39;00m \u001b[38;5;28mlen\u001b[39m(omitted_indices) \u001b[38;5;241m==\u001b[39m \u001b[38;5;241m0\u001b[39m \u001b[38;5;129;01mand\u001b[39;00m \u001b[38;5;28mlen\u001b[39m(omitted_kwds) \u001b[38;5;241m==\u001b[39m \u001b[38;5;241m0\u001b[39m:\n\u001b[1;32m     26\u001b[0m     \u001b[38;5;66;03m# Base case: Don't recurse when result is nullary\u001b[39;00m\n\u001b[0;32m---> 27\u001b[0m     \u001b[38;5;28;01mreturn\u001b[39;00m \u001b[43mpartially_applied_func\u001b[49m\u001b[43m(\u001b[49m\u001b[43m)\u001b[49m \u001b[38;5;28;01mif\u001b[39;00m nullary_as_const \u001b[38;5;28;01melse\u001b[39;00m partially_applied_func\n\u001b[1;32m     28\u001b[0m \u001b[38;5;28;01melse\u001b[39;00m:\n\u001b[1;32m     29\u001b[0m     \u001b[38;5;66;03m# If not nullary, use recursion to get another partially applicable function\u001b[39;00m\n\u001b[1;32m     30\u001b[0m     \u001b[38;5;28;01mreturn\u001b[39;00m partially_applicable(partially_applied_func)\n",
      "Cell \u001b[0;32mIn [277], line 23\u001b[0m, in \u001b[0;36mpartially_applicable.<locals>.partially_applicable_func.<locals>.partially_applied_func\u001b[0;34m(*fewer_args, **fewer_kwargs)\u001b[0m\n\u001b[1;32m     21\u001b[0m     new_kwargs[kwd] \u001b[38;5;241m=\u001b[39m fewer_kwargs[kwd]\n\u001b[1;32m     22\u001b[0m \u001b[38;5;28mprint\u001b[39m(\u001b[38;5;124mf\u001b[39m\u001b[38;5;124m\"\u001b[39m\u001b[38;5;132;01m{\u001b[39;00mnew_args\u001b[38;5;132;01m=}\u001b[39;00m\u001b[38;5;124m, \u001b[39m\u001b[38;5;132;01m{\u001b[39;00mnew_kwargs\u001b[38;5;132;01m=}\u001b[39;00m\u001b[38;5;124m\"\u001b[39m)\n\u001b[0;32m---> 23\u001b[0m \u001b[38;5;28;01mreturn\u001b[39;00m \u001b[43mfunc\u001b[49m\u001b[43m(\u001b[49m\u001b[38;5;241;43m*\u001b[39;49m\u001b[43mnew_args\u001b[49m\u001b[43m,\u001b[49m\u001b[43m \u001b[49m\u001b[38;5;241;43m*\u001b[39;49m\u001b[38;5;241;43m*\u001b[39;49m\u001b[43mnew_kwargs\u001b[49m\u001b[43m)\u001b[49m\n",
      "Cell \u001b[0;32mIn [277], line 21\u001b[0m, in \u001b[0;36mpartially_applicable.<locals>.partially_applicable_func.<locals>.partially_applied_func\u001b[0;34m(*fewer_args, **fewer_kwargs)\u001b[0m\n\u001b[1;32m     19\u001b[0m     new_args[j] \u001b[38;5;241m=\u001b[39m fewer_args[i]\n\u001b[1;32m     20\u001b[0m \u001b[38;5;28;01mfor\u001b[39;00m kwd \u001b[38;5;129;01min\u001b[39;00m omitted_kwds:\n\u001b[0;32m---> 21\u001b[0m     new_kwargs[kwd] \u001b[38;5;241m=\u001b[39m \u001b[43mfewer_kwargs\u001b[49m\u001b[43m[\u001b[49m\u001b[43mkwd\u001b[49m\u001b[43m]\u001b[49m\n\u001b[1;32m     22\u001b[0m \u001b[38;5;28mprint\u001b[39m(\u001b[38;5;124mf\u001b[39m\u001b[38;5;124m\"\u001b[39m\u001b[38;5;132;01m{\u001b[39;00mnew_args\u001b[38;5;132;01m=}\u001b[39;00m\u001b[38;5;124m, \u001b[39m\u001b[38;5;132;01m{\u001b[39;00mnew_kwargs\u001b[38;5;132;01m=}\u001b[39;00m\u001b[38;5;124m\"\u001b[39m)\n\u001b[1;32m     23\u001b[0m \u001b[38;5;28;01mreturn\u001b[39;00m func(\u001b[38;5;241m*\u001b[39mnew_args, \u001b[38;5;241m*\u001b[39m\u001b[38;5;241m*\u001b[39mnew_kwargs)\n",
      "\u001b[0;31mKeyError\u001b[0m: 'd'"
     ]
    }
   ],
   "source": [
    "pf3a(1,...,c=4,d=...)(5,12)"
   ]
  },
  {
   "cell_type": "code",
   "execution_count": 292,
   "id": "84af6378",
   "metadata": {},
   "outputs": [
    {
     "name": "stdout",
     "output_type": "stream",
     "text": [
      "omitted_indices=[1], omitted_kwds=['d']\n",
      "omitted_indices=[], omitted_kwds=[]\n",
      "omitted_indices=[], args=(5,), fewer_args=()\n",
      "omitted_kwds=[], kwargs={'d': 12}, fewer_kwargs={}\n",
      "new_args=[5], new_kwargs={'d': 12}\n",
      "omitted_indices=[1], args=(1, Ellipsis), fewer_args=(5,)\n",
      "omitted_kwds=['d'], kwargs={'c': 4, 'd': Ellipsis, 'e': 2}, fewer_kwargs={'d': 12}\n",
      "new_args=[1, 5], new_kwargs={'c': 4, 'd': 12, 'e': 2}\n",
      "a=1,b=5,c=4,d=12,e=2\n"
     ]
    }
   ],
   "source": [
    "pf3a(1,...,c=4,d=...,e=2)(5,d=12)"
   ]
  },
  {
   "cell_type": "code",
   "execution_count": 293,
   "id": "2f6c5674",
   "metadata": {},
   "outputs": [
    {
     "name": "stdout",
     "output_type": "stream",
     "text": [
      "omitted_indices=[], omitted_kwds=['b', 'd']\n",
      "omitted_indices=[], omitted_kwds=[]\n",
      "omitted_indices=[], args=(), fewer_args=()\n",
      "omitted_kwds=[], kwargs={'b': 5, 'd': 12}, fewer_kwargs={}\n",
      "new_args=[], new_kwargs={'b': 5, 'd': 12}\n",
      "omitted_indices=[], args=(1,), fewer_args=()\n",
      "omitted_kwds=['b', 'd'], kwargs={'b': Ellipsis, 'c': 4, 'd': Ellipsis, 'e': 2}, fewer_kwargs={'b': 5, 'd': 12}\n",
      "new_args=[1], new_kwargs={'b': 5, 'c': 4, 'd': 12, 'e': 2}\n",
      "a=1,b=5,c=4,d=12,e=2\n"
     ]
    }
   ],
   "source": [
    "pf3a(1,b=...,c=4,d=...,e=2)(b=5,d=12)"
   ]
  },
  {
   "cell_type": "code",
   "execution_count": null,
   "id": "2e77630f",
   "metadata": {},
   "outputs": [],
   "source": []
  }
 ],
 "metadata": {
  "kernelspec": {
   "display_name": "Python 3 (ipykernel)",
   "language": "python",
   "name": "python3"
  },
  "language_info": {
   "codemirror_mode": {
    "name": "ipython",
    "version": 3
   },
   "file_extension": ".py",
   "mimetype": "text/x-python",
   "name": "python",
   "nbconvert_exporter": "python",
   "pygments_lexer": "ipython3",
   "version": "3.9.13"
  }
 },
 "nbformat": 4,
 "nbformat_minor": 5
}
